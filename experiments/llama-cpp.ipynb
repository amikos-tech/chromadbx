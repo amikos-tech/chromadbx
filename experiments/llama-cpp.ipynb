{
 "cells": [
  {
   "metadata": {},
   "cell_type": "markdown",
   "source": [
    "# Download the model\n",
    "\n",
    "```bash\n",
    "pip install -U \"huggingface_hub[cli]\"\n",
    "huggingface-cli download ChristianAzinn/snowflake-arctic-embed-s-gguf --include=snowflake-arctic-embed-s-f16.GGUF --local-dir snowflake-arctic-embed-s\n",
    "```"
   ],
   "id": "4b7fd5669d0c91f8"
  },
  {
   "cell_type": "code",
   "id": "initial_id",
   "metadata": {
    "collapsed": true
   },
   "source": [
    "from chromadbx.embeddings.llamacpp import LlamaCppEmbeddingFunction\n",
    "import chromadb\n",
    "\n",
    "ef = LlamaCppEmbeddingFunction(model_path=\"snowflake-arctic-embed-s/snowflake-arctic-embed-s-f16.GGUF\")\n",
    "\n",
    "client = chromadb.Client()\n",
    "\n",
    "col = client.get_or_create_collection(\"test\", embedding_function=ef)\n",
    "\n",
    "col.add(ids=[\"id1\", \"id2\", \"id3\"], documents=[\"lorem ipsum...\", \"doc2\", \"doc3\"])"
   ],
   "outputs": [],
   "execution_count": null
  },
  {
   "metadata": {},
   "cell_type": "code",
   "source": "col.get(include=[\"embeddings\"])",
   "id": "3d122d08d62dae1e",
   "outputs": [],
   "execution_count": null
  },
  {
   "metadata": {},
   "cell_type": "markdown",
   "source": "# With HF model\n",
   "id": "296662e89e5e2ce1"
  },
  {
   "metadata": {},
   "cell_type": "code",
   "source": [
    "from chromadbx.embeddings.llamacpp import LlamaCppEmbeddingFunction\n",
    "\n",
    "ef = LlamaCppEmbeddingFunction(model_path=\"yixuan-chia/snowflake-arctic-embed-s-GGUF\",\n",
    "                               hf_file_name=\"snowflake-arctic-embed-s-F32.gguf\")\n",
    "\n",
    "ef([\"lorem ipsum...\"])"
   ],
   "id": "e5658111be0f28d8",
   "outputs": [],
   "execution_count": null
  },
  {
   "metadata": {},
   "cell_type": "code",
   "source": "",
   "id": "9e0f134be5b72d4c",
   "outputs": [],
   "execution_count": null
  }
 ],
 "metadata": {
  "kernelspec": {
   "display_name": "Python 3",
   "language": "python",
   "name": "python3"
  },
  "language_info": {
   "codemirror_mode": {
    "name": "ipython",
    "version": 2
   },
   "file_extension": ".py",
   "mimetype": "text/x-python",
   "name": "python",
   "nbconvert_exporter": "python",
   "pygments_lexer": "ipython2",
   "version": "2.7.6"
  }
 },
 "nbformat": 4,
 "nbformat_minor": 5
}
