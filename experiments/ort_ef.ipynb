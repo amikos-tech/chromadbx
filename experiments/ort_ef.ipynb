{
 "cells": [
  {
   "metadata": {},
   "cell_type": "markdown",
   "source": [
    "# Default Chroma Embedding Model\n",
    "\n",
    "To download the model:\n",
    "\n",
    "```bash\n",
    "mkdir -p ~/.cache/chroma/onnx_models/all-MiniLM-L6-v2/onnx\n",
    "\n",
    "curl -o ~/.cache/chroma/onnx_models/all-MiniLM-L6-v2/onnx.tar.gz \"https://chroma-onnx-models.s3.amazonaws.com/all-MiniLM-L6-v2/onnx.tar.gz\"\n",
    "tar -xvfz ~/.cache/chroma/onnx_models/all-MiniLM-L6-v2/onnx.tar.gz -C ~/.cache/chroma/onnx_models/all-MiniLM-L6-v2/onnx\n",
    "```"
   ],
   "id": "23c43c4c3dfbdbe0"
  },
  {
   "cell_type": "code",
   "id": "initial_id",
   "metadata": {
    "collapsed": true
   },
   "source": [
    "from pathlib import Path\n",
    "from chromadbx.embeddings.ort import OnnxRuntimeEmbeddings\n",
    "\n",
    "ef=OnnxRuntimeEmbeddings(model_path=f\"{Path.home()}/.cache/chroma/onnx_models/all-MiniLM-L6-v2/onnx\",preferred_providers=[\"CPUExecutionProvider\"])\n",
    "\n",
    "ef([\"text\"])"
   ],
   "outputs": [],
   "execution_count": null
  },
  {
   "metadata": {},
   "cell_type": "markdown",
   "source": [
    "# HF Latest All-MiniLM-L6-v2\n",
    "\n",
    "To download the model:\n",
    "\n",
    "```bash\n",
    "mkdir -p ~/.cache/models/hf\n",
    "git clone git clone https://huggingface.co/sentence-transformers/all-MiniLM-L6-v2 ~/.cache/models/hf/all-MiniLM-L6-v2\n",
    "```"
   ],
   "id": "f9901f5b54a0878e"
  },
  {
   "metadata": {},
   "cell_type": "code",
   "source": [
    "from chromadbx.embeddings.ort import OnnxRuntimeEmbeddings\n",
    "\n",
    "ef=OnnxRuntimeEmbeddings(model_path=f\"{Path.home()}/.cache/models/hf/all-MiniLM-L6-v2all-MiniLM-L6-v2\")\n",
    "\n",
    "ef([\"text\"])"
   ],
   "id": "50abbfe7dd8e65dc",
   "outputs": [],
   "execution_count": null
  },
  {
   "metadata": {},
   "cell_type": "markdown",
   "source": [
    "# Snowflake Arctic Embedding Small from HF\n",
    "\n",
    "To download the model:\n",
    "\n",
    "```bash\n",
    "mkdir -p ~/.cache/models/hf\n",
    "git clone git clone https://huggingface.co/snowflake/arctic-embed-s ~/.cache/models/hf/snowflake-arctic-embed-s\n",
    "```"
   ],
   "id": "d37abba957d4da75"
  },
  {
   "metadata": {},
   "cell_type": "code",
   "source": [
    "from chromadbx.embeddings.ort import OnnxRuntimeEmbeddings\n",
    "\n",
    "ef=OnnxRuntimeEmbeddings(model_path=f\"{Path.home()}/Downloads/hf_experiments/snowflake-arctic-embed-s\",preferred_providers=[\"CPUExecutionProvider\"])\n",
    "\n",
    "ef([\"text\"])\n"
   ],
   "id": "7bb291da7e682c9f",
   "outputs": [],
   "execution_count": null
  },
  {
   "metadata": {},
   "cell_type": "code",
   "source": "",
   "id": "d0e2356d4fbfaac6",
   "outputs": [],
   "execution_count": null
  }
 ],
 "metadata": {
  "kernelspec": {
   "display_name": "Python 3",
   "language": "python",
   "name": "python3"
  },
  "language_info": {
   "codemirror_mode": {
    "name": "ipython",
    "version": 2
   },
   "file_extension": ".py",
   "mimetype": "text/x-python",
   "name": "python",
   "nbconvert_exporter": "python",
   "pygments_lexer": "ipython2",
   "version": "2.7.6"
  }
 },
 "nbformat": 4,
 "nbformat_minor": 5
}
