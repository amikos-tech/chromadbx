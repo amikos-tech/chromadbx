{
 "cells": [
  {
   "cell_type": "markdown",
   "id": "23c43c4c3dfbdbe0",
   "metadata": {},
   "source": [
    "# Default Chroma Embedding Model\n",
    "\n",
    "To download the model:\n",
    "\n",
    "```bash\n",
    "mkdir -p ~/.cache/chroma/onnx_models/all-MiniLM-L6-v2/onnx\n",
    "\n",
    "curl -o ~/.cache/chroma/onnx_models/all-MiniLM-L6-v2/onnx.tar.gz \"https://chroma-onnx-models.s3.amazonaws.com/all-MiniLM-L6-v2/onnx.tar.gz\"\n",
    "tar -xvfz ~/.cache/chroma/onnx_models/all-MiniLM-L6-v2/onnx.tar.gz -C ~/.cache/chroma/onnx_models/all-MiniLM-L6-v2/onnx\n",
    "```"
   ]
  },
  {
   "cell_type": "code",
   "execution_count": null,
   "id": "initial_id",
   "metadata": {
    "collapsed": true
   },
   "outputs": [],
   "source": [
    "from pathlib import Path\n",
    "from chromadbx.embeddings.onnx import OnnxRuntimeEmbeddings\n",
    "\n",
    "ef=OnnxRuntimeEmbeddings(model_path=f\"{Path.home()}/.cache/models/hf/all-MiniLM-L6-v2\",preferred_providers=[\"CPUExecutionProvider\"])\n",
    "\n",
    "ef([\"text\"])"
   ]
  },
  {
   "cell_type": "markdown",
   "id": "f9901f5b54a0878e",
   "metadata": {},
   "source": [
    "# HF Latest All-MiniLM-L6-v2\n",
    "\n",
    "To download the model:\n",
    "\n",
    "```bash\n",
    "mkdir -p ~/.cache/models/hf\n",
    "git clone git clone https://huggingface.co/sentence-transformers/all-MiniLM-L6-v2 ~/.cache/models/hf/all-MiniLM-L6-v2\n",
    "```"
   ]
  },
  {
   "cell_type": "code",
   "execution_count": null,
   "id": "50abbfe7dd8e65dc",
   "metadata": {},
   "outputs": [],
   "source": [
    "from chromadbx.embeddings.onnx import OnnxRuntimeEmbeddings\n",
    "\n",
    "ef=OnnxRuntimeEmbeddings(model_path=f\"{Path.home()}/.cache/models/hf/all-MiniLM-L6-v2all-MiniLM-L6-v2\")\n",
    "\n",
    "ef([\"text\"])"
   ]
  },
  {
   "cell_type": "markdown",
   "id": "d37abba957d4da75",
   "metadata": {},
   "source": [
    "# Snowflake Arctic Embedding Small from HF\n",
    "\n",
    "To download the model:\n",
    "\n",
    "```bash\n",
    "mkdir -p ~/.cache/models/hf\n",
    "git clone git clone https://huggingface.co/snowflake/arctic-embed-s ~/.cache/models/hf/snowflake-arctic-embed-s\n",
    "```"
   ]
  },
  {
   "cell_type": "code",
   "execution_count": null,
   "id": "7bb291da7e682c9f",
   "metadata": {
    "ExecuteTime": {
     "end_time": "2024-09-12T13:36:48.317877Z",
     "start_time": "2024-09-12T13:36:48.265418Z"
    }
   },
   "outputs": [],
   "source": [
    "from chromadbx.embeddings.onnx import OnnxRuntimeEmbeddings\n",
    "from pathlib import Path\n",
    "ef=OnnxRuntimeEmbeddings(model_path=f\"{Path.home()}/.cache/models/hf/snowflake-arctic-embed-s\",preferred_providers=[\"CPUExecutionProvider\"])\n",
    "\n",
    "ef([\"text\"])\n"
   ]
  },
  {
   "cell_type": "code",
   "execution_count": null,
   "id": "d0e2356d4fbfaac6",
   "metadata": {
    "ExecuteTime": {
     "end_time": "2024-09-12T13:37:04.244797Z",
     "start_time": "2024-09-12T13:37:04.150636Z"
    }
   },
   "outputs": [],
   "source": [
    "from chromadbx.embeddings.onnx import OnnxRuntimeEmbeddings\n",
    "\n",
    "ef=OnnxRuntimeEmbeddings(model_path=f\"~/.cache/models/hf/all-MiniLM-L6-v2\",preferred_providers=[\"CPUExecutionProvider\"])\n",
    "\n",
    "ef([\"text\"])\n"
   ]
  },
  {
   "cell_type": "markdown",
   "id": "8b6c46bf",
   "metadata": {},
   "source": [
    "# Loading from HuggingFace\n",
    "\n",
    "The following example shows how to download the model from HuggingFace and use it with ChromaDBX.\n",
    "\n",
    "> Note: If the model is already downloaded, you can skip the download step.\n",
    "\n",
    "> Warning: If the model repo does not contain onnx models then the EF initialization will fail.\n"
   ]
  },
  {
   "cell_type": "code",
   "execution_count": null,
   "id": "498277298d41c6f3",
   "metadata": {
    "ExecuteTime": {
     "start_time": "2024-09-12T13:41:36.884753Z"
    },
    "jupyter": {
     "is_executing": true
    }
   },
   "outputs": [],
   "source": [
    "from chromadbx.embeddings.onnx import OnnxRuntimeEmbeddings\n",
    "ef=OnnxRuntimeEmbeddings(model_path=\"snowflake/arctic-embed-s\",preferred_providers=[\"CPUExecutionProvider\"],hf_download=True)\n",
    "\n",
    "ef([\"text\"])\n"
   ]
  }
 ],
 "metadata": {
  "kernelspec": {
   "display_name": "Python 3",
   "language": "python",
   "name": "python3"
  },
  "language_info": {
   "codemirror_mode": {
    "name": "ipython",
    "version": 3
   },
   "file_extension": ".py",
   "mimetype": "text/x-python",
   "name": "python",
   "nbconvert_exporter": "python",
   "pygments_lexer": "ipython3",
   "version": "3.11.7"
  }
 },
 "nbformat": 4,
 "nbformat_minor": 5
}
